{
 "cells": [
  {
   "cell_type": "code",
   "execution_count": 2,
   "metadata": {
    "collapsed": false
   },
   "outputs": [
    {
     "data": {
      "text/html": [
       "<script>\n",
       "code_show=true; \n",
       "function code_toggle() {\n",
       " if (code_show){\n",
       " $('div.input').hide();\n",
       " $('div.prompt').hide();\n",
       " } else {\n",
       " $('div.input').show();\n",
       "$('div.prompt').show();\n",
       " }\n",
       " code_show = !code_show\n",
       "} \n",
       "$( document ).ready(code_toggle);\n",
       "</script>\n",
       "<form action=\"javascript:code_toggle()\"><input type=\"submit\" value=\"Code Toggle\"></form>"
      ],
      "text/plain": [
       "<IPython.core.display.HTML object>"
      ]
     },
     "execution_count": 2,
     "metadata": {},
     "output_type": "execute_result"
    }
   ],
   "source": [
    "from IPython.display import HTML\n",
    "\n",
    "HTML('''<script>\n",
    "code_show=true; \n",
    "function code_toggle() {\n",
    " if (code_show){\n",
    " $('div.input').hide();\n",
    " $('div.prompt').hide();\n",
    " } else {\n",
    " $('div.input').show();\n",
    "$('div.prompt').show();\n",
    " }\n",
    " code_show = !code_show\n",
    "} \n",
    "$( document ).ready(code_toggle);\n",
    "</script>\n",
    "<form action=\"javascript:code_toggle()\"><input type=\"submit\" value=\"Code Toggle\"></form>''')"
   ]
  },
  {
   "cell_type": "markdown",
   "metadata": {},
   "source": [
    "# Custom Solutions"
   ]
  },
  {
   "cell_type": "markdown",
   "metadata": {},
   "source": [
    "No code yet"
   ]
  },
  {
   "cell_type": "markdown",
   "metadata": {},
   "source": [
    "# Table of Contents\n",
    "* [Custom Solutions](#Custom-Solutions)\n",
    "\t* [Spectral](#Spectral)\n",
    "\t* [Finite Difference](#Finite-Difference)\n",
    "\t* [Unknown Method](#Unknown-Method)\n"
   ]
  },
  {
   "cell_type": "markdown",
   "metadata": {},
   "source": [
    "## Spectral"
   ]
  },
  {
   "cell_type": "code",
   "execution_count": 5,
   "metadata": {
    "collapsed": false
   },
   "outputs": [
    {
     "data": {
      "text/html": [
       "\n",
       "        <iframe\n",
       "            width=\"595\"\n",
       "            height=\"485\"\n",
       "            src=\"//www.slideshare.net/slideshow/embed_code/key/dK4zl7XPHXpKLV?style=border%3A1px+solid+%23CCC%3B+border-width%3A1px%3B+margin-bottom%3A5px%3B+max-width%3A+100%25%3B&marginheight=0&scrolling=no&marginwidth=0&frameborder=0\"\n",
       "            frameborder=\"0\"\n",
       "            allowfullscreen\n",
       "        ></iframe>\n",
       "        "
      ],
      "text/plain": [
       "<IPython.lib.display.IFrame at 0x7f65581d4610>"
      ]
     },
     "execution_count": 5,
     "metadata": {},
     "output_type": "execute_result"
    }
   ],
   "source": [
    "from IPython.display import IFrame\n",
    "IFrame('//www.slideshare.net/slideshow/embed_code/key/dK4zl7XPHXpKLV',\n",
    "       width=\"595\",\n",
    "       height=\"485\",\n",
    "       frameborder=\"0\",\n",
    "       marginwidth=\"0\",\n",
    "       marginheight=\"0\",\n",
    "       scrolling=\"no\",\n",
    "       style=\"border:1px solid #CCC; border-width:1px; margin-bottom:5px; max-width: 100%;\") "
   ]
  },
  {
   "cell_type": "markdown",
   "metadata": {},
   "source": [
    "## Finite Difference"
   ]
  },
  {
   "cell_type": "code",
   "execution_count": 6,
   "metadata": {
    "collapsed": false
   },
   "outputs": [
    {
     "data": {
      "text/html": [
       "\n",
       "        <iframe\n",
       "            width=\"595\"\n",
       "            height=\"485\"\n",
       "            src=\"//www.slideshare.net/slideshow/embed_code/key/GeR1Zyt3bPLCd9?style=border%3A1px+solid+%23CCC%3B+border-width%3A1px%3B+margin-bottom%3A5px%3B+max-width%3A+100%25%3B&marginheight=0&scrolling=no&marginwidth=0&frameborder=0\"\n",
       "            frameborder=\"0\"\n",
       "            allowfullscreen\n",
       "        ></iframe>\n",
       "        "
      ],
      "text/plain": [
       "<IPython.lib.display.IFrame at 0x7f65581d4590>"
      ]
     },
     "execution_count": 6,
     "metadata": {},
     "output_type": "execute_result"
    }
   ],
   "source": [
    "from IPython.display import IFrame\n",
    "IFrame('//www.slideshare.net/slideshow/embed_code/key/GeR1Zyt3bPLCd9',\n",
    "       width=\"595\",\n",
    "       height=\"485\",\n",
    "       frameborder=\"0\",\n",
    "       marginwidth=\"0\",\n",
    "       marginheight=\"0\",\n",
    "       scrolling=\"no\",\n",
    "       style=\"border:1px solid #CCC; border-width:1px; margin-bottom:5px; max-width: 100%;\") "
   ]
  },
  {
   "cell_type": "markdown",
   "metadata": {},
   "source": [
    "## Unknown Method"
   ]
  },
  {
   "cell_type": "code",
   "execution_count": 8,
   "metadata": {
    "collapsed": false
   },
   "outputs": [
    {
     "data": {
      "text/html": [
       "\n",
       "        <iframe\n",
       "            width=\"595\"\n",
       "            height=\"485\"\n",
       "            src=\"//www.slideshare.net/slideshow/embed_code/key/FA7NEDrBTgb65Y?style=border%3A1px+solid+%23CCC%3B+border-width%3A1px%3B+margin-bottom%3A5px%3B+max-width%3A+100%25%3B&marginheight=0&scrolling=no&marginwidth=0&frameborder=0\"\n",
       "            frameborder=\"0\"\n",
       "            allowfullscreen\n",
       "        ></iframe>\n",
       "        "
      ],
      "text/plain": [
       "<IPython.lib.display.IFrame at 0x7f65581d4710>"
      ]
     },
     "execution_count": 8,
     "metadata": {},
     "output_type": "execute_result"
    }
   ],
   "source": [
    "from IPython.display import IFrame\n",
    "IFrame('//www.slideshare.net/slideshow/embed_code/key/FA7NEDrBTgb65Y',\n",
    "       width=\"595\",\n",
    "       height=\"485\",\n",
    "       frameborder=\"0\",\n",
    "       marginwidth=\"0\",\n",
    "       marginheight=\"0\",\n",
    "       scrolling=\"no\",\n",
    "       style=\"border:1px solid #CCC; border-width:1px; margin-bottom:5px; max-width: 100%;\") "
   ]
  },
  {
   "cell_type": "code",
   "execution_count": null,
   "metadata": {
    "collapsed": true
   },
   "outputs": [],
   "source": []
  }
 ],
 "metadata": {
  "kernelspec": {
   "display_name": "Python 2",
   "language": "python",
   "name": "python2"
  },
  "language_info": {
   "codemirror_mode": {
    "name": "ipython",
    "version": 2
   },
   "file_extension": ".py",
   "mimetype": "text/x-python",
   "name": "python",
   "nbconvert_exporter": "python",
   "pygments_lexer": "ipython2",
   "version": "2.7.11"
  }
 },
 "nbformat": 4,
 "nbformat_minor": 0
}
