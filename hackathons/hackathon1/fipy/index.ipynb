{
 "cells": [
  {
   "cell_type": "code",
   "execution_count": 3,
   "metadata": {
    "collapsed": false
   },
   "outputs": [
    {
     "data": {
      "text/html": [
       "<script>\n",
       "code_show=true; \n",
       "function code_toggle() {\n",
       " if (code_show){\n",
       " $('div.input').hide();\n",
       " $('div.prompt').hide();\n",
       " } else {\n",
       " $('div.input').show();\n",
       "$('div.prompt').show();\n",
       " }\n",
       " code_show = !code_show\n",
       "} \n",
       "$( document ).ready(code_toggle);\n",
       "</script>\n",
       "<form action=\"javascript:code_toggle()\"><input type=\"submit\" value=\"Code Toggle\"></form>"
      ],
      "text/plain": [
       "<IPython.core.display.HTML object>"
      ]
     },
     "execution_count": 3,
     "metadata": {},
     "output_type": "execute_result"
    }
   ],
   "source": [
    "from IPython.display import HTML\n",
    "\n",
    "HTML('''<script>\n",
    "code_show=true; \n",
    "function code_toggle() {\n",
    " if (code_show){\n",
    " $('div.input').hide();\n",
    " $('div.prompt').hide();\n",
    " } else {\n",
    " $('div.input').show();\n",
    "$('div.prompt').show();\n",
    " }\n",
    " code_show = !code_show\n",
    "} \n",
    "$( document ).ready(code_toggle);\n",
    "</script>\n",
    "<form action=\"javascript:code_toggle()\"><input type=\"submit\" value=\"Code Toggle\"></form>''')"
   ]
  },
  {
   "cell_type": "markdown",
   "metadata": {},
   "source": [
    "# FiPy Solutions\n",
    "\n",
    "The FiPy solutions to the hackathon challange problems\n",
    "\n",
    "# Table of Contents\n",
    "* [1a. Periodic spinodal decomposition on a square domain](../1a.ipynb/#1a.-Periodic-spinodal-decomposition-on-a-square-domain)\n",
    "\t* [Use Binder For Live Examples](../1a.ipynb/#Use-Binder-For-Live-Examples)\n",
    "\t* [Define $f_0$](../1a.ipynb/#Define-$f_0$)\n",
    "\t* [Define the Equation](../1a.ipynb/#Define-the-Equation)\n",
    "\t* [Solve the Equation](../1a.ipynb/#Solve-the-Equation)\n",
    "\t* [Run the Example Locally](../1a.ipynb/#Run-the-Example-Locally)\n",
    "\t* [Movie of Evolution](../1a.ipynb/#Movie-of-Evolution)\n",
    "* [1b. Fixed flux spinodal decomposition on a square domain](../1b.ipynb/#1b.-Fixed-flux-spinodal-decomposition-on-a-square-domain)\n",
    "\t* [Use Binder For Live Examples](../1b.ipynb/#Use-Binder-For-Live-Examples)\n",
    "\t* [Define $f_0$](../1b.ipynb/#Define-$f_0$)\n",
    "\t* [Define the Equation](../1b.ipynb/#Define-the-Equation)\n",
    "\t* [Solve the Equation](../1b.ipynb/#Solve-the-Equation)\n",
    "\t* [Run the Example Locally](../1b.ipynb/#Run-the-Example-Locally)\n",
    "\t* [Movie of Evolution](../1b.ipynb/#Movie-of-Evolution)\n",
    "* [1c. Fixed flux spinodal decomposition on a T shaped domain](../1c.ipynb/#1c.-Fixed-flux-spinodal-decomposition-on-a-T-shaped-domain)\n",
    "\t* [Use Binder For Live Examples](../1c.ipynb/#Use-Binder-For-Live-Examples)\n",
    "\t* [Define $f_0$](../1c.ipynb/#Define-$f_0$)\n",
    "\t* [Define the Equation](../1c.ipynb/#Define-the-Equation)\n",
    "\t* [Solve the Equation](../1c.ipynb/#Solve-the-Equation)\n",
    "\t* [Run the Example Locally](../1c.ipynb/#Run-the-Example-Locally)\n",
    "\t* [Movie of Evolution](../1c.ipynb/#Movie-of-Evolution)\n",
    "\n"
   ]
  },
  {
   "cell_type": "markdown",
   "metadata": {},
   "source": [
    "## Use Binder for Live Examples\n",
    "\n",
    "[![Binder](http://mybinder.org/badge.svg)](http://mybinder.org/repo/wd15/fipy-hackathon1)"
   ]
  },
  {
   "cell_type": "markdown",
   "metadata": {},
   "source": [
    "## FiPy Hackathon Presentation"
   ]
  },
  {
   "cell_type": "code",
   "execution_count": 4,
   "metadata": {
    "collapsed": false
   },
   "outputs": [
    {
     "data": {
      "text/html": [
       "\n",
       "<script async class=\"speakerdeck-embed\" data-id=\"737dfeab8fb4426e8ee5fbff28274530\" data-ratio=\"1.33333333333333\" src=\"//speakerdeck.com/assets/embed.js\"></script>\n"
      ],
      "text/plain": [
       "<IPython.core.display.HTML object>"
      ]
     },
     "execution_count": 4,
     "metadata": {},
     "output_type": "execute_result"
    }
   ],
   "source": [
    "from IPython.display import HTML\n",
    "\n",
    "HTML('''\n",
    "<script async class=\"speakerdeck-embed\" data-id=\"737dfeab8fb4426e8ee5fbff28274530\" data-ratio=\"1.33333333333333\" src=\"//speakerdeck.com/assets/embed.js\"></script>\n",
    "''')"
   ]
  },
  {
   "cell_type": "code",
   "execution_count": null,
   "metadata": {
    "collapsed": true
   },
   "outputs": [],
   "source": []
  }
 ],
 "metadata": {
  "anaconda-cloud": {},
  "kernelspec": {
   "display_name": "Python [conda root]",
   "language": "python",
   "name": "conda-root-py"
  },
  "language_info": {
   "codemirror_mode": {
    "name": "ipython",
    "version": 3
   },
   "file_extension": ".py",
   "mimetype": "text/x-python",
   "name": "python",
   "nbconvert_exporter": "python",
   "pygments_lexer": "ipython3",
   "version": "3.5.2"
  }
 },
 "nbformat": 4,
 "nbformat_minor": 0
}
