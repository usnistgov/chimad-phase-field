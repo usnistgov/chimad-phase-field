{
 "cells": [
  {
   "cell_type": "code",
   "execution_count": 8,
   "metadata": {},
   "outputs": [
    {
     "data": {
      "text/html": [
       "<script>\n",
       "code_show=true; \n",
       "function code_toggle() {\n",
       " if (code_show){\n",
       " $('div.input').hide();\n",
       " $('div.prompt').hide();\n",
       " } else {\n",
       " $('div.input').show();\n",
       "$('div.prompt').show();\n",
       " }\n",
       " code_show = !code_show\n",
       "} \n",
       "$( document ).ready(code_toggle);\n",
       "</script>\n",
       "<form action=\"javascript:code_toggle()\"><input type=\"submit\" value=\"Code Toggle\"></form>"
      ],
      "text/plain": [
       "<IPython.core.display.HTML object>"
      ]
     },
     "execution_count": 8,
     "metadata": {},
     "output_type": "execute_result"
    }
   ],
   "source": [
    "from IPython.display import HTML\n",
    "\n",
    "HTML('''<script>\n",
    "code_show=true; \n",
    "function code_toggle() {\n",
    " if (code_show){\n",
    " $('div.input').hide();\n",
    " $('div.prompt').hide();\n",
    " } else {\n",
    " $('div.input').show();\n",
    "$('div.prompt').show();\n",
    " }\n",
    " code_show = !code_show\n",
    "} \n",
    "$( document ).ready(code_toggle);\n",
    "</script>\n",
    "<form action=\"javascript:code_toggle()\"><input type=\"submit\" value=\"Code Toggle\"></form>''')"
   ]
  },
  {
   "cell_type": "code",
   "execution_count": 4,
   "metadata": {},
   "outputs": [
    {
     "data": {
      "text/html": [
       "{% include jupyter_benchmark_table.html num=\"[1, 2]\" revision=0 %}"
      ],
      "text/plain": [
       "<IPython.core.display.HTML object>"
      ]
     },
     "execution_count": 4,
     "metadata": {},
     "output_type": "execute_result"
    }
   ],
   "source": [
    "from IPython.display import HTML\n",
    "\n",
    "HTML('''{% include jupyter_benchmark_table.html num=\"[1, 2]\" revision=0 %}''')"
   ]
  },
  {
   "cell_type": "markdown",
   "metadata": {},
   "source": [
    "# Table of Contents\n",
    "* [Challenge Problems](#Challenge-Problems)\n",
    "\t* [1. Spinodal Decomposition - Cahn-Hilliard](#1.-Spinodal-Decomposition---Cahn-Hilliard)\n",
    "\t\t* [1.1 Parameter Values](#1.1-Parameter-Values)\n",
    "\t\t* [1.2 Initial Conditions](#1.2-Initial-Conditions)\n",
    "\t\t* [1.3 Domains](#1.3-Domains)\n",
    "\t\t\t* [1.a Square Periodic](#1.a-Square-Periodic)\n",
    "\t\t\t* [1.b No Flux](#1.b-No-Flux)\n",
    "\t\t\t* [1.c T-Shape No Flux](#1.c-T-Shape-No-Flux)\n",
    "\t\t\t* [1.d Sphere](#1.d-Sphere)\n",
    "\t\t* [1.4 Tasks](#1.4-Tasks)\n",
    "\t* [2. Ostwald Ripening -- coupled Cahn-Hilliard and Allen-Cahn equations](#2.-Ostwald-Ripening----coupled-Cahn-Hilliard-and-Allen-Cahn-equations)\n",
    "\t\t* [2.1 Parameter Values](#2.1-Parameter-Values)\n",
    "\t\t* [2.2 Initial Conditions](#2.2-Initial-Conditions)\n",
    "\t\t* [2.3 Domains](#2.3-Domains)\n",
    "\t\t\t* [2.a Square Periodic](#2.a-Square-Periodic)\n",
    "\t\t\t* [2.b No Flux](#2.b-No-Flux)\n",
    "\t\t\t* [2.c T-Shape No Flux](#2.c-T-Shape-No-Flux)\n",
    "\t\t\t* [2.d Sphere](#2.d-Sphere)\n",
    "\t\t* [2.4 Tasks](#2.4-Tasks)\n"
   ]
  },
  {
   "cell_type": "markdown",
   "metadata": {},
   "source": [
    "# Challenge Problems"
   ]
  },
  {
   "cell_type": "markdown",
   "metadata": {},
   "source": [
    "For the first hackathon there are two challenge problems, a spinodal decomposition problem and an Ostwald ripening problem. The only solutions included here currently are with FiPy."
   ]
  },
  {
   "cell_type": "markdown",
   "metadata": {},
   "source": [
    "## 1. Spinodal Decomposition - Cahn-Hilliard"
   ]
  },
  {
   "cell_type": "markdown",
   "metadata": {},
   "source": [
    "The free energy density is given by,\n",
    "\n",
    "$$ f = f_0 \\left[ c \\left( \\vec{r} \\right) \\right] + \\frac{\\kappa}{2} \\left| \\nabla c \\left( \\vec{r} \\right) \\right|^2 $$\n",
    "\n",
    "where $f_0$ is the bulk free energy density given by,\n",
    "\n",
    "$$ f_0\\left[ c \\left( \\vec{r} \\right) \\right] =\n",
    "   - \\frac{A}{2} \\left(c - c_m\\right)^2\n",
    "   + \\frac{B}{4} \\left(c - c_m\\right)^4\n",
    "   + \\frac{c_{\\alpha}}{4} \\left(c - c_{\\alpha} \\right)^4\n",
    "   + \\frac{c_{\\beta}}{4} \\left(c - c_{\\beta} \\right)^4 $$\n",
    "\n",
    "where $c_m = \\frac{1}{2} \\left( c_{\\alpha} + c_{\\beta} \\right)$ and $c_{\\alpha}$ and $c_{\\beta}$ are the concentrations at which the bulk free energy density has minima (corresponding to the solubilities in the matrix phase and the second phase, respectively).\n",
    "\n",
    "The time evolution of the concentration field, $c$, is given by the Cahn-Hilliard equation:\n",
    "\n",
    "$$ \\frac{\\partial c}{\\partial t} = \\nabla \\cdot  \\left[\n",
    "       D \\left( c \\right) \\nabla \\left( \\frac{ \\partial f_0 }{ \\partial c} - \\kappa \\nabla^2 c \\right)\n",
    "   \\right] $$\n",
    "\n",
    "where $D$ is the diffusivity."
   ]
  },
  {
   "cell_type": "markdown",
   "metadata": {},
   "source": [
    "### 1.1 Parameter Values"
   ]
  },
  {
   "cell_type": "markdown",
   "metadata": {},
   "source": [
    "Use the following parameter values.\n",
    "\n",
    "<table width=\"200\">\n",
    "<tr>\n",
    "<td> $c_{\\alpha}$ </td>\n",
    "<td> 0.05 </td>\n",
    "</tr>\n",
    "<tr>\n",
    "<td> $c_{\\beta}$ </td>\n",
    "<td> 0.95 </td>\n",
    "</tr>\n",
    "<tr>\n",
    "<td> A </td>\n",
    "<td> 2.0 </td>\n",
    "</tr>\n",
    "<tr>\n",
    "<td> $\\kappa$ </td>\n",
    "<td> 2.0 </td>\n",
    "</tr>\n",
    "</table>\n",
    "\n",
    "with\n",
    "\n",
    "$$ B = \\frac{A}{\\left( c_{\\alpha} - c_m \\right)^2} $$\n",
    "\n",
    "$$ D = D_{\\alpha} = D_{\\beta} = \\frac{2}{c_{\\beta} - c_{\\alpha}} $$"
   ]
  },
  {
   "cell_type": "markdown",
   "metadata": {},
   "source": [
    "### 1.2 Initial Conditions"
   ]
  },
  {
   "cell_type": "markdown",
   "metadata": {},
   "source": [
    "Set $c\\left(\\vec{r}, t\\right)$ such that\n",
    "\n",
    "$$ c\\left(\\vec{r}, 0\\right) = \\bar{c}_0 + \\epsilon \\cos \\left( \\vec{q} \\cdot \\vec{r} \\right) $$\n",
    "\n",
    "where\n",
    "\n",
    "<table width=\"200\">\n",
    "<tr>\n",
    "<td> $\\bar{c}_0$ </td>\n",
    "<td> 0.45 </td>\n",
    "</tr>\n",
    "<tr>\n",
    "<td> $\\vec{q}$ </td>\n",
    "<td> $\\left(\\sqrt{2},\\sqrt{3}\\right)$ </td>\n",
    "</tr>\n",
    "<tr>\n",
    "<td> $\\epsilon$ </td>\n",
    "<td> 0.01 </td>\n",
    "</tr>\n",
    "</table>"
   ]
  },
  {
   "cell_type": "markdown",
   "metadata": {},
   "source": [
    "### 1.3 Domains"
   ]
  },
  {
   "cell_type": "markdown",
   "metadata": {},
   "source": [
    "#### 1.a Square Periodic"
   ]
  },
  {
   "cell_type": "markdown",
   "metadata": {},
   "source": [
    "2D square domain with $L_x = L_y = 200$ and periodic boundary conditions."
   ]
  },
  {
   "cell_type": "code",
   "execution_count": 3,
   "metadata": {},
   "outputs": [
    {
     "data": {
      "image/svg+xml": [
       "<svg height=\"212px\" version=\"1.1\" width=\"232px\" xmlns=\"http://www.w3.org/2000/svg\" xmlns:xlink=\"http://www.w3.org/1999/xlink\"><defs/><g transform=\"translate(0.5,0.5)\"><rect fill=\"#000000\" height=\"150\" pointer-events=\"none\" stroke=\"#000000\" width=\"150\" x=\"71\" y=\"51\"/><path d=\"M 51 194.63 L 51 57.37\" fill=\"none\" pointer-events=\"none\" stroke=\"#000000\" stroke-miterlimit=\"10\"/><path d=\"M 51 199.88 L 47.5 192.88 L 51 194.63 L 54.5 192.88 Z\" fill=\"#000000\" pointer-events=\"none\" stroke=\"#000000\" stroke-miterlimit=\"10\"/><path d=\"M 51 52.12 L 54.5 59.12 L 51 57.37 L 47.5 59.12 Z\" fill=\"#000000\" pointer-events=\"none\" stroke=\"#000000\" stroke-miterlimit=\"10\"/><path d=\"M 214.63 31 L 77.37 31\" fill=\"none\" pointer-events=\"none\" stroke=\"#000000\" stroke-miterlimit=\"10\"/><path d=\"M 219.88 31 L 212.88 34.5 L 214.63 31 L 212.88 27.5 Z\" fill=\"#000000\" pointer-events=\"none\" stroke=\"#000000\" stroke-miterlimit=\"10\"/><path d=\"M 72.12 31 L 79.12 27.5 L 77.37 31 L 79.12 34.5 Z\" fill=\"#000000\" pointer-events=\"none\" stroke=\"#000000\" stroke-miterlimit=\"10\"/><g transform=\"translate(14.5,124.5)\"><switch><foreignObject height=\"12\" pointer-events=\"all\" requiredFeatures=\"http://www.w3.org/TR/SVG11/feature#Extensibility\" style=\"overflow:visible;\" width=\"13\"><div style=\"display: inline-block; font-size: 12px; font-family: Helvetica; color: rgb(0, 0, 0); line-height: 1.2; vertical-align: top; overflow: hidden; max-height: 16px; max-width: 36px; width: 13px; white-space: normal; text-align: center;\" xmlns=\"http://www.w3.org/1999/xhtml\"><div style=\"display:inline-block;text-align:inherit;text-decoration:inherit;\" xmlns=\"http://www.w3.org/1999/xhtml\">Ly</div></div></foreignObject><text fill=\"#000000\" font-family=\"Helvetica\" font-size=\"12px\" text-anchor=\"middle\" x=\"7\" y=\"12\">Ly</text></switch></g><g transform=\"translate(134.5,4.5)\"><switch><foreignObject height=\"12\" pointer-events=\"all\" requiredFeatures=\"http://www.w3.org/TR/SVG11/feature#Extensibility\" style=\"overflow:visible;\" width=\"13\"><div style=\"display: inline-block; font-size: 12px; font-family: Helvetica; color: rgb(0, 0, 0); line-height: 1.2; vertical-align: top; overflow: hidden; max-height: 16px; max-width: 36px; width: 13px; white-space: normal; text-align: center;\" xmlns=\"http://www.w3.org/1999/xhtml\"><div style=\"display:inline-block;text-align:inherit;text-decoration:inherit;\" xmlns=\"http://www.w3.org/1999/xhtml\">Lx</div></div></foreignObject><text fill=\"#000000\" font-family=\"Helvetica\" font-size=\"12px\" text-anchor=\"middle\" x=\"7\" y=\"12\">Lx</text></switch></g></g></svg>"
      ],
      "text/plain": [
       "<IPython.core.display.SVG object>"
      ]
     },
     "execution_count": 3,
     "metadata": {},
     "output_type": "execute_result"
    }
   ],
   "source": [
    "from IPython.display import SVG\n",
    "SVG(filename='../images/block1.svg')"
   ]
  },
  {
   "cell_type": "markdown",
   "metadata": {},
   "source": [
    "#### 1.b No Flux"
   ]
  },
  {
   "cell_type": "markdown",
   "metadata": {},
   "source": [
    "2D square domain with $L_x = L_y = 200$ and zero flux boundary conditions."
   ]
  },
  {
   "cell_type": "markdown",
   "metadata": {},
   "source": [
    "#### 1.c T-Shape No Flux"
   ]
  },
  {
   "cell_type": "markdown",
   "metadata": {},
   "source": [
    "T-shaped reiong with zero flux boundary conditions with $a=b=100$ and $c=d=20.$"
   ]
  },
  {
   "cell_type": "code",
   "execution_count": 4,
   "metadata": {},
   "outputs": [
    {
     "data": {
      "image/svg+xml": [
       "<svg height=\"235px\" version=\"1.1\" width=\"217px\" xmlns=\"http://www.w3.org/2000/svg\" xmlns:xlink=\"http://www.w3.org/1999/xlink\"><defs/><g transform=\"translate(0.5,0.5)\"><rect fill=\"#000000\" height=\"40\" pointer-events=\"none\" stroke=\"#000000\" width=\"150\" x=\"56\" y=\"43\"/><path d=\"M 36 76.63 L 36 49.37\" fill=\"none\" pointer-events=\"none\" stroke=\"#000000\" stroke-miterlimit=\"10\"/><path d=\"M 36 81.88 L 32.5 74.88 L 36 76.63 L 39.5 74.88 Z\" fill=\"#000000\" pointer-events=\"none\" stroke=\"#000000\" stroke-miterlimit=\"10\"/><path d=\"M 36 44.12 L 39.5 51.12 L 36 49.37 L 32.5 51.12 Z\" fill=\"#000000\" pointer-events=\"none\" stroke=\"#000000\" stroke-miterlimit=\"10\"/><path d=\"M 199.63 23 L 62.37 23\" fill=\"none\" pointer-events=\"none\" stroke=\"#000000\" stroke-miterlimit=\"10\"/><path d=\"M 204.88 23 L 197.88 26.5 L 199.63 23 L 197.88 19.5 Z\" fill=\"#000000\" pointer-events=\"none\" stroke=\"#000000\" stroke-miterlimit=\"10\"/><path d=\"M 57.12 23 L 64.12 19.5 L 62.37 23 L 64.12 26.5 Z\" fill=\"#000000\" pointer-events=\"none\" stroke=\"#000000\" stroke-miterlimit=\"10\"/><g transform=\"translate(122.5,4.5)\"><switch><foreignObject height=\"12\" pointer-events=\"all\" requiredFeatures=\"http://www.w3.org/TR/SVG11/feature#Extensibility\" style=\"overflow:visible;\" width=\"7\"><div style=\"display: inline-block; font-size: 12px; font-family: Helvetica; color: rgb(0, 0, 0); line-height: 1.2; vertical-align: top; overflow: hidden; max-height: 16px; max-width: 36px; width: 7px; white-space: normal; text-align: center;\" xmlns=\"http://www.w3.org/1999/xhtml\"><div style=\"display:inline-block;text-align:inherit;text-decoration:inherit;\" xmlns=\"http://www.w3.org/1999/xhtml\">b</div></div></foreignObject><text fill=\"#000000\" font-family=\"Helvetica\" font-size=\"12px\" text-anchor=\"middle\" x=\"4\" y=\"12\">b</text></switch></g><rect fill=\"#000000\" height=\"110\" pointer-events=\"none\" stroke=\"#000000\" width=\"40\" x=\"111\" y=\"83\"/><path d=\"M 86 186.63 L 86 89.37\" fill=\"none\" pointer-events=\"none\" stroke=\"#000000\" stroke-miterlimit=\"10\"/><path d=\"M 86 191.88 L 82.5 184.88 L 86 186.63 L 89.5 184.88 Z\" fill=\"#000000\" pointer-events=\"none\" stroke=\"#000000\" stroke-miterlimit=\"10\"/><path d=\"M 86 84.12 L 89.5 91.12 L 86 89.37 L 82.5 91.12 Z\" fill=\"#000000\" pointer-events=\"none\" stroke=\"#000000\" stroke-miterlimit=\"10\"/><path d=\"M 144.63 213 L 117.37 213\" fill=\"none\" pointer-events=\"none\" stroke=\"#000000\" stroke-miterlimit=\"10\"/><path d=\"M 149.88 213 L 142.88 216.5 L 144.63 213 L 142.88 209.5 Z\" fill=\"#000000\" pointer-events=\"none\" stroke=\"#000000\" stroke-miterlimit=\"10\"/><path d=\"M 112.12 213 L 119.12 209.5 L 117.37 213 L 119.12 216.5 Z\" fill=\"#000000\" pointer-events=\"none\" stroke=\"#000000\" stroke-miterlimit=\"10\"/><g transform=\"translate(72.5,141.5)\"><switch><foreignObject height=\"12\" pointer-events=\"all\" requiredFeatures=\"http://www.w3.org/TR/SVG11/feature#Extensibility\" style=\"overflow:visible;\" width=\"7\"><div style=\"display: inline-block; font-size: 12px; font-family: Helvetica; color: rgb(0, 0, 0); line-height: 1.2; vertical-align: top; overflow: hidden; max-height: 16px; max-width: 36px; width: 7px; white-space: normal; text-align: center;\" xmlns=\"http://www.w3.org/1999/xhtml\"><div style=\"display:inline-block;text-align:inherit;text-decoration:inherit;\" xmlns=\"http://www.w3.org/1999/xhtml\">a</div></div></foreignObject><text fill=\"#000000\" font-family=\"Helvetica\" font-size=\"12px\" text-anchor=\"middle\" x=\"4\" y=\"12\">a</text></switch></g><g transform=\"translate(17.5,56.5)\"><switch><foreignObject height=\"12\" pointer-events=\"all\" requiredFeatures=\"http://www.w3.org/TR/SVG11/feature#Extensibility\" style=\"overflow:visible;\" width=\"6\"><div style=\"display: inline-block; font-size: 12px; font-family: Helvetica; color: rgb(0, 0, 0); line-height: 1.2; vertical-align: top; overflow: hidden; max-height: 16px; max-width: 36px; width: 7px; white-space: normal; text-align: center;\" xmlns=\"http://www.w3.org/1999/xhtml\"><div style=\"display:inline-block;text-align:inherit;text-decoration:inherit;\" xmlns=\"http://www.w3.org/1999/xhtml\">c</div></div></foreignObject><text fill=\"#000000\" font-family=\"Helvetica\" font-size=\"12px\" text-anchor=\"middle\" x=\"3\" y=\"12\">c</text></switch></g><g transform=\"translate(127.5,216.5)\"><switch><foreignObject height=\"12\" pointer-events=\"all\" requiredFeatures=\"http://www.w3.org/TR/SVG11/feature#Extensibility\" style=\"overflow:visible;\" width=\"7\"><div style=\"display: inline-block; font-size: 12px; font-family: Helvetica; color: rgb(0, 0, 0); line-height: 1.2; vertical-align: top; overflow: hidden; max-height: 16px; max-width: 36px; width: 7px; white-space: normal; text-align: center;\" xmlns=\"http://www.w3.org/1999/xhtml\"><div style=\"display:inline-block;text-align:inherit;text-decoration:inherit;\" xmlns=\"http://www.w3.org/1999/xhtml\">d</div></div></foreignObject><text fill=\"#000000\" font-family=\"Helvetica\" font-size=\"12px\" text-anchor=\"middle\" x=\"4\" y=\"12\">d</text></switch></g></g></svg>"
      ],
      "text/plain": [
       "<IPython.core.display.SVG object>"
      ]
     },
     "execution_count": 4,
     "metadata": {},
     "output_type": "execute_result"
    }
   ],
   "source": [
    "from IPython.display import SVG\n",
    "SVG(filename='../images/t-shape.svg')"
   ]
  },
  {
   "cell_type": "markdown",
   "metadata": {},
   "source": [
    "#### 1.d Sphere"
   ]
  },
  {
   "cell_type": "markdown",
   "metadata": {},
   "source": [
    "Domain is the surface of a sphere with radius 100, but with initial conditions of\n",
    "\n",
    "$$ c\\left(\\theta, \\phi, 0\\right) = \\bar{c}_0 + \\epsilon \\cos \\left( \\sqrt{233} \\theta \\right)\n",
    "                                                        \\sin \\left( \\sqrt{239} \\phi \\right) $$\n",
    "\n",
    "where $\\theta$ and $\\phi$ are the polar and azimuthal angles in a spherical coordinate system. $\\bar{c}_0$ and $\\epsilon$ are given by the values in the table above."
   ]
  },
  {
   "cell_type": "markdown",
   "metadata": {},
   "source": [
    "### 1.4 Tasks"
   ]
  },
  {
   "cell_type": "markdown",
   "metadata": {},
   "source": [
    "Your task for each domain,\n",
    "\n",
    " 1. Calculate the time evolution of the concentration -- store concentration at time steps to make a movie\n",
    "\n",
    " 2. Plot the free energy as a function of time steps until you judge that convergence or a local equilibrium has been reached.\n",
    "\n",
    " 3. Present wall clock time for the calculations, and wall clock time per core used in the calculation.\n",
    "\n",
    " 4. For domain a. above, demonstrate that the solution is robust with respect to meshing by refining the mesh (e.g. reduce the mesh size by about a factor of $\\sqrt{2}$ in linear dimensions -- use whatever convenient way you have to refine the mesh without exploding the computational time)."
   ]
  },
  {
   "cell_type": "markdown",
   "metadata": {
    "collapsed": true
   },
   "source": [
    "## 2. Ostwald Ripening -- coupled Cahn-Hilliard and Allen-Cahn equations"
   ]
  },
  {
   "cell_type": "markdown",
   "metadata": {},
   "source": [
    "Expanded problem in that the phase field, described by variables $\\eta_i$, is now coupled to the concentration field $c$. The Ginzberg-Landau free energy density is now taken to be,\n",
    "\n",
    "$$ f = f_0 \\left[ C \\left( \\vec{r} \\right), \\eta_1, ... , \\eta_p \\right]\n",
    "+ \\frac{\\kappa_C}{2} \\left[ \\nabla  C \\left( \\vec{r} \\right) \\right]^2 +\n",
    "\\sum_{i=1}^p \\frac{\\kappa_C}{2} \\left[ \\nabla  \\eta_i \\left( \\vec{r} \\right) \\right]^2\n",
    "$$\n",
    "\n",
    "Here, $f_0$ is a bulk free energy density,\n",
    "\n",
    "$$ f_0 \\left[ C \\left( \\vec{r} \\right), \\eta_1, ... , \\eta_p \\right] \n",
    "= f_1 \\left( C \\right) + \\sum_{i=1}^p f_2 \\left( C, \\eta_i \\right)\n",
    "+ \\sum_{i=1}^p \\sum_{j\\ne i}^p f_3 \\left( \\eta_j, \\eta_i \\right) $$\n",
    "\n",
    "Here, $ f_1 \\left( C \\right) $ is the free energy density due to the concentration field, $C$, with local minima at $C_{\\alpha}$ and $C_{\\beta}$ corresponding to the solubilities in the matrix phase and the second phase, respectively; $f_2\\left(C , \\eta_i \\right)$ is an interaction term between the concentration field and the phase fields, and $f_3 \\left( \\eta_i, \\eta_j \\right)$ is the free energy density of the phase fields. Simple models for these free energy densities are,\n",
    "\n",
    "$$ f_1\\left( C \\right) =\n",
    "   - \\frac{A}{2} \\left(C - C_m\\right)^2\n",
    "   + \\frac{B}{4} \\left(C - C_m\\right)^4\n",
    "   + \\frac{D_{\\alpha}}{4} \\left(C - C_{\\alpha} \\right)^4\n",
    "   + \\frac{D_{\\beta}}{4} \\left(C - C_{\\beta} \\right)^4 $$\n",
    "\n",
    "where \n",
    "\n",
    "$$ C_m = \\frac{1}{2} \\left(C_{\\alpha} + C_{\\beta} \\right) $$\n",
    "\n",
    "and\n",
    "\n",
    "$$ f_2 \\left( C, \\eta_i \\right) = - \\frac{\\gamma}{2} \\left( C - C_{\\alpha} \\right)^2 \\eta_i^2 + \\frac{\\beta}{2} \\eta_i^4 $$\n",
    "\n",
    "where\n",
    "\n",
    "$$ f_3 \\left( \\eta_i, \\eta_j \\right) = \\frac{ \\epsilon_{ij} }{2} \\eta_i^2 \\eta_j^2, i \\ne j $$\n",
    "\n",
    "The time evolution of the system is now given by coupled Cahn-Hilliard and Allen-Cahn (time dependent Gizberg-Landau) equations for the conserved concentration field and the non-conserved phase fields:\n",
    "\n",
    "$$\n",
    "\\begin{eqnarray}\n",
    "\\frac{\\partial C}{\\partial t} &=& \\nabla \\cdot  \\left \\{\n",
    "       D \\nabla \\left[ \\frac{\\delta F}{\\delta C} \\right] \\right \\} \\\\\n",
    " &=& D \\left[ -A + 3 B \\left( C- C_m \\right)^2 + 3 D_{\\alpha} \\left( C - C_{\\alpha} \\right)^2 + 3 D_{\\beta} \\left( C - C_{\\beta} \\right)^2 \\right] \\nabla^2 C \\\\\n",
    "& & -D \\gamma \\sum_{i=1}^{p} \\left[ \\eta_i^2 \\nabla^2 C + 4 \\nabla C \\cdot \\nabla \\eta_i + 2 \\left( C - C_{\\alpha} \\right) \\nabla^2 \\eta_i \\right] - D \\kappa_C \\nabla^4 C\n",
    "\\end{eqnarray}\n",
    "$$\n",
    "\n",
    "and the phase field equations\n",
    "\n",
    "$$\n",
    "\\begin{eqnarray}\n",
    "\\frac{\\partial \\eta_i}{\\partial t} &=& - L_i \\frac{\\delta F}{\\delta \\eta_i} \\\\\n",
    "          &=& \\frac{\\partial f_2}{\\delta \\eta_i} + \\frac{\\partial f_3}{\\delta \\eta_i} - \\kappa_i \\nabla^2 \\eta_i \\left(\\vec{r}, t\\right) \\\\\n",
    "          &=& L_i \\gamma \\left( C - C_{\\alpha} \\right)^2 \\eta_i - L_i \\beta \\eta_i^3 - L_i \\eta_i \\sum_{j\\ne i}^{p} \\epsilon_{ij} \\eta^2_j + L_i \\kappa_i \\nabla^2 \\eta_i\n",
    "\\end{eqnarray}\n",
    "$$"
   ]
  },
  {
   "cell_type": "markdown",
   "metadata": {},
   "source": [
    "### 2.1 Parameter Values"
   ]
  },
  {
   "cell_type": "markdown",
   "metadata": {},
   "source": [
    "Use the following parameter values.\n",
    "\n",
    "<table width=\"200\">\n",
    "<tr>\n",
    "<td> $C_{\\alpha}$ </td>\n",
    "<td> 0.05 </td>\n",
    "</tr>\n",
    "<tr>\n",
    "<td> $C_{\\beta}$ </td>\n",
    "<td> 0.95 </td>\n",
    "</tr>\n",
    "<tr>\n",
    "<td> A </td>\n",
    "<td> 2.0 </td>\n",
    "</tr>\n",
    "<tr>\n",
    "<td> $\\kappa_i$ </td>\n",
    "<td> 2.0 </td>\n",
    "</tr>\n",
    "<tr>\n",
    "<td> $\\kappa_j$ </td>\n",
    "<td> 2.0 </td>\n",
    "</tr>\n",
    "<tr>\n",
    "<td> $\\kappa_k$ </td>\n",
    "<td> 2.0 </td>\n",
    "</tr>\n",
    "<tr>\n",
    "<td> $\\epsilon_{ij}$ </td>\n",
    "<td> 3.0 </td>\n",
    "</tr>\n",
    "<tr>\n",
    "<td> $\\beta$ </td>\n",
    "<td> 1.0 </td>\n",
    "</tr>\n",
    "<tr>\n",
    "<td> $p$ </td>\n",
    "<td> 10 </td>\n",
    "</tr>\n",
    "</table>\n",
    "\n",
    "with\n",
    "\n",
    "$$ B = \\frac{A}{\\left( C_{\\alpha} - C_m \\right)^2} $$\n",
    "\n",
    "$$ \\gamma = \\frac{2}{\\left(C_{\\beta} - C_{\\alpha}\\right)^2} $$\n",
    "\n",
    "$$ D = D_{\\alpha} = D_{\\beta} = \\frac{\\gamma}{\\delta^2} $$\n",
    "\n",
    "The diffusion coefficient, $D$, is constant and isotropic and the same (unity) for both phases; the mobility-related constants, $L_i$, are the same (unity) for all phase fields."
   ]
  },
  {
   "cell_type": "markdown",
   "metadata": {},
   "source": [
    "### 2.2 Initial Conditions"
   ]
  },
  {
   "cell_type": "markdown",
   "metadata": {},
   "source": [
    "Set $c\\left(\\vec{r}, t\\right)$ such that\n",
    "\n",
    "$$ \n",
    "\\begin{eqnarray}\n",
    "c\\left(\\vec{r}, 0\\right) &=& \\bar{c}_0 + \\epsilon \\cos \\left( \\vec{q} \\cdot \\vec{r} \\right) \\\\\n",
    "\\eta_i\\left(\\vec{r}, 0\\right) &=& \\bar{\\eta}_0 + 0.01 \\epsilon_i \\cos^2 \\left( \\vec{q} \\cdot \\vec{r} \\right)\n",
    "\\end{eqnarray}\n",
    "$$\n",
    "\n",
    "where\n",
    "\n",
    "<table width=\"200\">\n",
    "<tr>\n",
    "<td> $\\bar{c}_0$ </td>\n",
    "<td> 0.5 </td>\n",
    "</tr>\n",
    "<tr>\n",
    "<td> $\\vec{q}$ </td>\n",
    "<td> $\\left(\\sqrt{2},\\sqrt{3}\\right)$ </td>\n",
    "</tr>\n",
    "<tr>\n",
    "<td> $\\epsilon$ </td>\n",
    "<td> 0.01 </td>\n",
    "</tr>\n",
    "<tr>\n",
    "<td> $\\vec{q}_i$ </td>\n",
    "<td> $\\left( \\sqrt{23 + i}, \\sqrt{149 + i} \\right)$ </td>\n",
    "</tr>\n",
    "<tr>\n",
    "<td> $\\epsilon_i$ </td>\n",
    "<td> 0.979285, 0.219812,\t0.837709,\t0.695603, \t0.225115,\t\n",
    "0.389266, \t0.585953,\t0.614471, \t0.918038,\t0.518569 </td>\n",
    "</tr>\n",
    "<tr>\n",
    "<td> $\\eta_0$ </td>\n",
    "<td> 0.0 </td>\n",
    "</tr>\n",
    "</table>"
   ]
  },
  {
   "cell_type": "markdown",
   "metadata": {},
   "source": [
    "### 2.3 Domains"
   ]
  },
  {
   "cell_type": "markdown",
   "metadata": {},
   "source": [
    "#### 2.a Square Periodic"
   ]
  },
  {
   "cell_type": "markdown",
   "metadata": {},
   "source": [
    "2D square domain with $L_x = L_y = 200$ and periodic boundary conditions."
   ]
  },
  {
   "cell_type": "code",
   "execution_count": 5,
   "metadata": {},
   "outputs": [
    {
     "data": {
      "image/svg+xml": [
       "<svg height=\"212px\" version=\"1.1\" width=\"232px\" xmlns=\"http://www.w3.org/2000/svg\" xmlns:xlink=\"http://www.w3.org/1999/xlink\"><defs/><g transform=\"translate(0.5,0.5)\"><rect fill=\"#000000\" height=\"150\" pointer-events=\"none\" stroke=\"#000000\" width=\"150\" x=\"71\" y=\"51\"/><path d=\"M 51 194.63 L 51 57.37\" fill=\"none\" pointer-events=\"none\" stroke=\"#000000\" stroke-miterlimit=\"10\"/><path d=\"M 51 199.88 L 47.5 192.88 L 51 194.63 L 54.5 192.88 Z\" fill=\"#000000\" pointer-events=\"none\" stroke=\"#000000\" stroke-miterlimit=\"10\"/><path d=\"M 51 52.12 L 54.5 59.12 L 51 57.37 L 47.5 59.12 Z\" fill=\"#000000\" pointer-events=\"none\" stroke=\"#000000\" stroke-miterlimit=\"10\"/><path d=\"M 214.63 31 L 77.37 31\" fill=\"none\" pointer-events=\"none\" stroke=\"#000000\" stroke-miterlimit=\"10\"/><path d=\"M 219.88 31 L 212.88 34.5 L 214.63 31 L 212.88 27.5 Z\" fill=\"#000000\" pointer-events=\"none\" stroke=\"#000000\" stroke-miterlimit=\"10\"/><path d=\"M 72.12 31 L 79.12 27.5 L 77.37 31 L 79.12 34.5 Z\" fill=\"#000000\" pointer-events=\"none\" stroke=\"#000000\" stroke-miterlimit=\"10\"/><g transform=\"translate(14.5,124.5)\"><switch><foreignObject height=\"12\" pointer-events=\"all\" requiredFeatures=\"http://www.w3.org/TR/SVG11/feature#Extensibility\" style=\"overflow:visible;\" width=\"13\"><div style=\"display: inline-block; font-size: 12px; font-family: Helvetica; color: rgb(0, 0, 0); line-height: 1.2; vertical-align: top; overflow: hidden; max-height: 16px; max-width: 36px; width: 13px; white-space: normal; text-align: center;\" xmlns=\"http://www.w3.org/1999/xhtml\"><div style=\"display:inline-block;text-align:inherit;text-decoration:inherit;\" xmlns=\"http://www.w3.org/1999/xhtml\">Ly</div></div></foreignObject><text fill=\"#000000\" font-family=\"Helvetica\" font-size=\"12px\" text-anchor=\"middle\" x=\"7\" y=\"12\">Ly</text></switch></g><g transform=\"translate(134.5,4.5)\"><switch><foreignObject height=\"12\" pointer-events=\"all\" requiredFeatures=\"http://www.w3.org/TR/SVG11/feature#Extensibility\" style=\"overflow:visible;\" width=\"13\"><div style=\"display: inline-block; font-size: 12px; font-family: Helvetica; color: rgb(0, 0, 0); line-height: 1.2; vertical-align: top; overflow: hidden; max-height: 16px; max-width: 36px; width: 13px; white-space: normal; text-align: center;\" xmlns=\"http://www.w3.org/1999/xhtml\"><div style=\"display:inline-block;text-align:inherit;text-decoration:inherit;\" xmlns=\"http://www.w3.org/1999/xhtml\">Lx</div></div></foreignObject><text fill=\"#000000\" font-family=\"Helvetica\" font-size=\"12px\" text-anchor=\"middle\" x=\"7\" y=\"12\">Lx</text></switch></g></g></svg>"
      ],
      "text/plain": [
       "<IPython.core.display.SVG object>"
      ]
     },
     "execution_count": 5,
     "metadata": {},
     "output_type": "execute_result"
    }
   ],
   "source": [
    "from IPython.display import SVG\n",
    "SVG(filename='../images/block1.svg')"
   ]
  },
  {
   "cell_type": "markdown",
   "metadata": {},
   "source": [
    "#### 2.b No Flux"
   ]
  },
  {
   "cell_type": "markdown",
   "metadata": {},
   "source": [
    "2D square domain with $L_x = L_y = 200$ and zero flux boundary conditions."
   ]
  },
  {
   "cell_type": "markdown",
   "metadata": {},
   "source": [
    "#### 2.c T-Shape No Flux"
   ]
  },
  {
   "cell_type": "markdown",
   "metadata": {},
   "source": [
    "T-shaped reiong with zero flux boundary conditions with $a=b=100$ and $c=d=20.$"
   ]
  },
  {
   "cell_type": "code",
   "execution_count": 7,
   "metadata": {},
   "outputs": [
    {
     "data": {
      "image/svg+xml": [
       "<svg height=\"235px\" version=\"1.1\" width=\"217px\" xmlns=\"http://www.w3.org/2000/svg\" xmlns:xlink=\"http://www.w3.org/1999/xlink\"><defs/><g transform=\"translate(0.5,0.5)\"><rect fill=\"#000000\" height=\"40\" pointer-events=\"none\" stroke=\"#000000\" width=\"150\" x=\"56\" y=\"43\"/><path d=\"M 36 76.63 L 36 49.37\" fill=\"none\" pointer-events=\"none\" stroke=\"#000000\" stroke-miterlimit=\"10\"/><path d=\"M 36 81.88 L 32.5 74.88 L 36 76.63 L 39.5 74.88 Z\" fill=\"#000000\" pointer-events=\"none\" stroke=\"#000000\" stroke-miterlimit=\"10\"/><path d=\"M 36 44.12 L 39.5 51.12 L 36 49.37 L 32.5 51.12 Z\" fill=\"#000000\" pointer-events=\"none\" stroke=\"#000000\" stroke-miterlimit=\"10\"/><path d=\"M 199.63 23 L 62.37 23\" fill=\"none\" pointer-events=\"none\" stroke=\"#000000\" stroke-miterlimit=\"10\"/><path d=\"M 204.88 23 L 197.88 26.5 L 199.63 23 L 197.88 19.5 Z\" fill=\"#000000\" pointer-events=\"none\" stroke=\"#000000\" stroke-miterlimit=\"10\"/><path d=\"M 57.12 23 L 64.12 19.5 L 62.37 23 L 64.12 26.5 Z\" fill=\"#000000\" pointer-events=\"none\" stroke=\"#000000\" stroke-miterlimit=\"10\"/><g transform=\"translate(122.5,4.5)\"><switch><foreignObject height=\"12\" pointer-events=\"all\" requiredFeatures=\"http://www.w3.org/TR/SVG11/feature#Extensibility\" style=\"overflow:visible;\" width=\"7\"><div style=\"display: inline-block; font-size: 12px; font-family: Helvetica; color: rgb(0, 0, 0); line-height: 1.2; vertical-align: top; overflow: hidden; max-height: 16px; max-width: 36px; width: 7px; white-space: normal; text-align: center;\" xmlns=\"http://www.w3.org/1999/xhtml\"><div style=\"display:inline-block;text-align:inherit;text-decoration:inherit;\" xmlns=\"http://www.w3.org/1999/xhtml\">b</div></div></foreignObject><text fill=\"#000000\" font-family=\"Helvetica\" font-size=\"12px\" text-anchor=\"middle\" x=\"4\" y=\"12\">b</text></switch></g><rect fill=\"#000000\" height=\"110\" pointer-events=\"none\" stroke=\"#000000\" width=\"40\" x=\"111\" y=\"83\"/><path d=\"M 86 186.63 L 86 89.37\" fill=\"none\" pointer-events=\"none\" stroke=\"#000000\" stroke-miterlimit=\"10\"/><path d=\"M 86 191.88 L 82.5 184.88 L 86 186.63 L 89.5 184.88 Z\" fill=\"#000000\" pointer-events=\"none\" stroke=\"#000000\" stroke-miterlimit=\"10\"/><path d=\"M 86 84.12 L 89.5 91.12 L 86 89.37 L 82.5 91.12 Z\" fill=\"#000000\" pointer-events=\"none\" stroke=\"#000000\" stroke-miterlimit=\"10\"/><path d=\"M 144.63 213 L 117.37 213\" fill=\"none\" pointer-events=\"none\" stroke=\"#000000\" stroke-miterlimit=\"10\"/><path d=\"M 149.88 213 L 142.88 216.5 L 144.63 213 L 142.88 209.5 Z\" fill=\"#000000\" pointer-events=\"none\" stroke=\"#000000\" stroke-miterlimit=\"10\"/><path d=\"M 112.12 213 L 119.12 209.5 L 117.37 213 L 119.12 216.5 Z\" fill=\"#000000\" pointer-events=\"none\" stroke=\"#000000\" stroke-miterlimit=\"10\"/><g transform=\"translate(72.5,141.5)\"><switch><foreignObject height=\"12\" pointer-events=\"all\" requiredFeatures=\"http://www.w3.org/TR/SVG11/feature#Extensibility\" style=\"overflow:visible;\" width=\"7\"><div style=\"display: inline-block; font-size: 12px; font-family: Helvetica; color: rgb(0, 0, 0); line-height: 1.2; vertical-align: top; overflow: hidden; max-height: 16px; max-width: 36px; width: 7px; white-space: normal; text-align: center;\" xmlns=\"http://www.w3.org/1999/xhtml\"><div style=\"display:inline-block;text-align:inherit;text-decoration:inherit;\" xmlns=\"http://www.w3.org/1999/xhtml\">a</div></div></foreignObject><text fill=\"#000000\" font-family=\"Helvetica\" font-size=\"12px\" text-anchor=\"middle\" x=\"4\" y=\"12\">a</text></switch></g><g transform=\"translate(17.5,56.5)\"><switch><foreignObject height=\"12\" pointer-events=\"all\" requiredFeatures=\"http://www.w3.org/TR/SVG11/feature#Extensibility\" style=\"overflow:visible;\" width=\"6\"><div style=\"display: inline-block; font-size: 12px; font-family: Helvetica; color: rgb(0, 0, 0); line-height: 1.2; vertical-align: top; overflow: hidden; max-height: 16px; max-width: 36px; width: 7px; white-space: normal; text-align: center;\" xmlns=\"http://www.w3.org/1999/xhtml\"><div style=\"display:inline-block;text-align:inherit;text-decoration:inherit;\" xmlns=\"http://www.w3.org/1999/xhtml\">c</div></div></foreignObject><text fill=\"#000000\" font-family=\"Helvetica\" font-size=\"12px\" text-anchor=\"middle\" x=\"3\" y=\"12\">c</text></switch></g><g transform=\"translate(127.5,216.5)\"><switch><foreignObject height=\"12\" pointer-events=\"all\" requiredFeatures=\"http://www.w3.org/TR/SVG11/feature#Extensibility\" style=\"overflow:visible;\" width=\"7\"><div style=\"display: inline-block; font-size: 12px; font-family: Helvetica; color: rgb(0, 0, 0); line-height: 1.2; vertical-align: top; overflow: hidden; max-height: 16px; max-width: 36px; width: 7px; white-space: normal; text-align: center;\" xmlns=\"http://www.w3.org/1999/xhtml\"><div style=\"display:inline-block;text-align:inherit;text-decoration:inherit;\" xmlns=\"http://www.w3.org/1999/xhtml\">d</div></div></foreignObject><text fill=\"#000000\" font-family=\"Helvetica\" font-size=\"12px\" text-anchor=\"middle\" x=\"4\" y=\"12\">d</text></switch></g></g></svg>"
      ],
      "text/plain": [
       "<IPython.core.display.SVG object>"
      ]
     },
     "execution_count": 7,
     "metadata": {},
     "output_type": "execute_result"
    }
   ],
   "source": [
    "from IPython.display import SVG\n",
    "SVG(filename='../images/t-shape.svg')"
   ]
  },
  {
   "cell_type": "markdown",
   "metadata": {},
   "source": [
    "#### 2.d Sphere"
   ]
  },
  {
   "cell_type": "markdown",
   "metadata": {},
   "source": [
    "Domain is the surface of a sphere with radius 100, but with initial conditions of\n",
    "\n",
    "$$ c\\left(\\theta, \\phi, 0\\right) = \\bar{c}_0 + \\epsilon \\cos \\left( \\sqrt{233} \\theta \\right)\n",
    "                                                        \\sin \\left( \\sqrt{239} \\phi \\right) $$\n",
    "\n",
    "and\n",
    "\n",
    "$$ \\eta_i\\left(\\theta, \\phi, 0\\right) = \\bar{\\eta}_0 + 0.01 \\epsilon_i \\cos^2 \\left( \\sqrt{23 + i} \\theta \\right)\n",
    "                                                        \\sin^2 \\left( \\sqrt{149 + i} \\phi \\right) $$\n",
    "\n",
    "where $\\theta$ and $\\phi$ are the polar and azimuthal angles in a spherical coordinate system and parameter values are in the table above."
   ]
  },
  {
   "cell_type": "markdown",
   "metadata": {},
   "source": [
    "### 2.4 Tasks"
   ]
  },
  {
   "cell_type": "markdown",
   "metadata": {},
   "source": [
    "Your task for each domain,\n",
    "\n",
    " 1. Calculate the time evolution of the concentration -- store concentration at time steps to make a movie\n",
    "\n",
    " 2. Plot the free energy as a function of time steps until you judge that convergence or a local equilibrium has been reached.\n",
    "\n",
    " 3. Present wall clock time for the calculations, and wall clock time per core used in the calculation."
   ]
  }
 ],
 "metadata": {
  "anaconda-cloud": {},
  "kernelspec": {
   "display_name": "Python [default]",
   "language": "python",
   "name": "python3"
  },
  "language_info": {
   "codemirror_mode": {
    "name": "ipython",
    "version": 3
   },
   "file_extension": ".py",
   "mimetype": "text/x-python",
   "name": "python",
   "nbconvert_exporter": "python",
   "pygments_lexer": "ipython3",
   "version": "3.6.1"
  }
 },
 "nbformat": 4,
 "nbformat_minor": 1
}
