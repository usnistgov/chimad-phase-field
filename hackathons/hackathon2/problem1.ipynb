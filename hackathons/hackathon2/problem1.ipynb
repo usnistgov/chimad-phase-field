{
 "cells": [
  {
   "cell_type": "code",
   "execution_count": 1,
   "metadata": {},
   "outputs": [
    {
     "data": {
      "text/html": [
       "<script>\n",
       "code_show=true; \n",
       "function code_toggle() {\n",
       " if (code_show){\n",
       " $('div.input').hide();\n",
       " $('div.prompt').hide();\n",
       " } else {\n",
       " $('div.input').show();\n",
       "$('div.prompt').show();\n",
       " }\n",
       " code_show = !code_show\n",
       "} \n",
       "$( document ).ready(code_toggle);\n",
       "</script>\n",
       "<form action=\"javascript:code_toggle()\"><input type=\"submit\" value=\"Code Toggle\"></form>"
      ],
      "text/plain": [
       "<IPython.core.display.HTML object>"
      ]
     },
     "execution_count": 1,
     "metadata": {},
     "output_type": "execute_result"
    }
   ],
   "source": [
    "from IPython.display import HTML\n",
    "\n",
    "HTML('''<script>\n",
    "code_show=true; \n",
    "function code_toggle() {\n",
    " if (code_show){\n",
    " $('div.input').hide();\n",
    " $('div.prompt').hide();\n",
    " } else {\n",
    " $('div.input').show();\n",
    "$('div.prompt').show();\n",
    " }\n",
    " code_show = !code_show\n",
    "} \n",
    "$( document ).ready(code_toggle);\n",
    "</script>\n",
    "<form action=\"javascript:code_toggle()\"><input type=\"submit\" value=\"Code Toggle\"></form>''')"
   ]
  },
  {
   "cell_type": "code",
   "execution_count": 2,
   "metadata": {},
   "outputs": [
    {
     "data": {
      "text/html": [
       "\n",
       "<a href=\"{{ site.links.github }}/raw/nist-pages/hackathons/hackathon2/problem1.ipynb\"\n",
       "   download>\n",
       "<button type=\"submit\">Download Notebook</button>\n",
       "</a>\n"
      ],
      "text/plain": [
       "<IPython.core.display.HTML object>"
      ]
     },
     "execution_count": 2,
     "metadata": {},
     "output_type": "execute_result"
    }
   ],
   "source": [
    "from IPython.display import HTML\n",
    "\n",
    "HTML('''\n",
    "<a href=\"{{ site.links.github }}/raw/nist-pages/hackathons/hackathon2/problem1.ipynb\"\n",
    "   download>\n",
    "<button type=\"submit\">Download Notebook</button>\n",
    "</a>\n",
    "''')"
   ]
  },
  {
   "cell_type": "code",
   "execution_count": 1,
   "metadata": {},
   "outputs": [
    {
     "data": {
      "text/html": [
       "{% include jupyter_benchmark_table.html num=\"[3]\" revision=0 %}"
      ],
      "text/plain": [
       "<IPython.core.display.HTML object>"
      ]
     },
     "execution_count": 1,
     "metadata": {},
     "output_type": "execute_result"
    }
   ],
   "source": [
    "from IPython.display import HTML\n",
    "\n",
    "HTML('''{% include jupyter_benchmark_table.html num=\"[3]\" revision=0 %}''')"
   ]
  },
  {
   "cell_type": "markdown",
   "metadata": {},
   "source": [
    "# Benchmark Problem 3: Dendritic Growth in 2D\n",
    " \n",
    "The solidification of an undercooled liquid can be described by a phase field model. The free energy density is given by\n",
    "\\begin{equation}\n",
    "{\\mathcal F}=\\int \\left[\\frac{1}{2} W^2(\\hat n)|\\nabla \\varphi|^2+f(\\varphi,u)\\right]\\,dV.\n",
    "\\end{equation}\n",
    "Here, $u$ is a dimensionless temperature field,\n",
    "\\begin{equation}\n",
    "u=\\frac{T({\\mathbf r},t)-T_m}{L \\; / \\; c_p},\n",
    "\\end{equation}\n",
    "where $T({\\mathbf r},t)$ is the space- and time-dependent temperature, $T_m$ the melting temperature, $L$ the latent heat, $c_p$ the specific heat at constant pressure, and $\\varphi$ is a phase field variable which describes the phase of the material. The free energy density $f(\\varphi,u)$ is a double-well potential,\n",
    "\\begin{equation}\n",
    "f(\\varphi,u)=-\\frac{1}{2}\\varphi^2+\\frac{1}{4}\\varphi^4\n",
    "+\\lambda u\\varphi\\left[1-\\frac{2}{3}\\varphi^2+\\frac{1}{5}\\varphi^4\\right],\n",
    "\\end{equation}\n",
    "constructed to have minima at $\\varphi=\\pm1$, corresponding to solid ($\\varphi=1$) and liquid phases ($\\varphi=-1$), respectively. The variable $\\lambda$ is a dimensionless coupling constant, and the last term on the right-hand side tilts the free energy double-well to favor solid or liquid, depending on if the temperature is above or below the melting temperature $T_m$.\n",
    "\n",
    "The term $W(\\hat n)$ controls the interface thickness and contains the crystalline anisotropy or symmetry. In two dimensions, it takes the form\n",
    "$\n",
    "W(\\hat n)=W_0a(\\hat n)$, where the unit normal vector $\\hat n=\\frac{\\nabla\\varphi}{|\\nabla\\varphi|}$. We will use a simple form for $a(\\hat n)$ to reflect in-plane symmetry, $a(\\hat n)=1+\\epsilon_m\\cos(m(\\theta-\\theta_0))$, where $m$ is a non-negative integer and $\\theta$ is the in-plane azimuthal angle, $\\tan\\theta=n_y\\;/\\;n_x$; $\\theta_0$ is an offset azimuthal angle that specifies the orientation of the crystalline axis relative to the $x$-axis in the laboratory coordinate system.\n",
    "\n",
    "The time evolution of the fields $u$ and $\\varphi$ are given by\n",
    "\\begin{eqnarray}\n",
    "\\frac{\\partial u}{\\partial t}&=&D\\nabla^2u+\\frac{1}{2}\\frac{\\partial \\varphi}{\\partial t}\\\\\n",
    "\\tau(\\hat n)\\frac{\\partial\\varphi}{\\partial t} & = & -\n",
    "\\frac{\\delta{\\mathcal F}}{\\delta \\varphi({\\mathbf r},t)},\n",
    "\\end{eqnarray}\n",
    "where $D$ is a thermal diffusion constant and $\\tau(\\hat n)=\\tau_0\\left[a(\\hat n)\\right]^2$. We will take \n",
    "\\begin{equation}\\lambda=\\frac{D\\tau_0}{0.6267W_0^2}\n",
    "\\end{equation}\n",
    "for obscure technical reasons (it makes kinetic contributions to the temperature on the interface vanish). Because of the dependence of $W$ on $\\varphi$, the functional derivative becomes a little complicated:\n",
    "\n",
    "$$\n",
    "\\begin{align}\n",
    "\\tau(\\hat n)\\frac{\\partial\\varphi}{\\partial t} & = & \\left[\\varphi-\\lambda u\\left(1-\\varphi^2\\right)\\right]\\left[1-\\varphi^2\\right]+\\nabla\\cdot\\left[ W(\\hat n)^2\\nabla\\varphi\\right]\\nonumber\\\\\n",
    "&&+\\frac{\\partial}{\\partial x}\\left[|\\nabla\\varphi|^2W(\\hat n)\\frac{\\partial W(\\hat n)}{\\partial \\left(\\frac{\\partial\\varphi}{\\partial x}\\right)}\\right]\n",
    "+\\frac{\\partial}{\\partial y}\\left[|\\nabla\\varphi|^2W(\\hat n)\\frac{\\partial W(\\hat n)}{\\partial \\left(\\frac{\\partial\\varphi}{\\partial y}\\right)}\\right].\n",
    "\\end{align}\n",
    "$$\n",
    "\n",
    "We will use the following values:\n",
    "$W_0=1$, $\\tau_0=1$, and $D=10$. The degree of undercooling, $\\Delta$, is given by \n",
    "\\begin{equation}\\Delta=\\frac{T_m-T_0}{L/c_p},\n",
    "\\end{equation}\n",
    "where $T_0$ is the initial (uniform) temperature of the system $[T({\\mathbf r},t=0)=T_0]$, and also specifies the boundary condition $u({\\mathbf r},t)\\to-\\Delta$ as $|{\\mathbf r}|\\to\\infty$.\n",
    "\n",
    "Use as initial condition that $\\varphi({\\mathbf r},t=0)=1$ for \n",
    "$|{\\mathbf r}|\\leq1$ and $\\varphi({\\mathbf r},t=0)=-1$  for $|{\\mathbf r}|>1$, such that the sphere of solid is centered in the computational domain. This problem involves many different length scales which may stress your meshing and solver. You should be careful to use a mesh that can resolve the interface (e.g., 5 mesh points across the interface) while still being able to include regions where the temperature $T\\approx T_0$. The solution will eventually reach a steady state where the tip velocity of the solidification front is constant if the computational domain is large enough.\n",
    "We will embed the system in a bounding box $\\Omega$ of size $L\\times L$ *with the boundaries aligned with the $x$- and $y$-axes*, and with boundary $\\partial \\Omega$. We use Dirichlet boundary conditions $T=T_0$ so that $u=-\\Delta$ on the boundary $\\partial \\Omega$.\n",
    "\n",
    "Plot the tip velocity as a function of time for (a), (b), and (c) below. Find the velocity both by directly measuring from your solution, and by calculating it via \n",
    "\\begin{equation}\n",
    "v_n=D\\hat n\\cdot\\left[\\nabla u|_S-\\nabla u|_L\\right],\n",
    "\\end{equation}\n",
    "where $\\nabla u|_S$ and $\\nabla u|_L$ are the gradients of $u$ evaluated on the solid and liquid side of the interface, respectively.\n",
    "\n",
    "(a) Plot the tip velocity of the solidification front as a function of time for $m=4$, $\\Delta=0.05$,  $\\epsilon_4=0.025$, $\\theta_0=0$, $L=20$, and also $L=100$.\n",
    "\n",
    "(b) Plot the tip velocity of the solidification front as a function of time for $m=4$, $\\Delta=0.05$,  $\\epsilon_4=0.025$, $\\theta_0=\\pi/4$, $L=20$, and $L=100$.\n",
    "\n",
    "(c) Plot the tip velocity of the solidification front as a function of time for $m=6$, $\\Delta=0.05$,  $\\epsilon_6=0.025$, $\\theta_0=0$, and $L=100$."
   ]
  }
 ],
 "metadata": {
  "anaconda-cloud": {},
  "kernelspec": {
   "display_name": "Python [default]",
   "language": "python",
   "name": "python3"
  },
  "language_info": {
   "codemirror_mode": {
    "name": "ipython",
    "version": 3
   },
   "file_extension": ".py",
   "mimetype": "text/x-python",
   "name": "python",
   "nbconvert_exporter": "python",
   "pygments_lexer": "ipython3",
   "version": "3.6.1"
  }
 },
 "nbformat": 4,
 "nbformat_minor": 1
}
