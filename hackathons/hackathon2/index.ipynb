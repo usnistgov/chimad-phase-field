{
 "cells": [
  {
   "cell_type": "code",
   "execution_count": 1,
   "metadata": {},
   "outputs": [
    {
     "data": {
      "text/html": [
       "<script>\n",
       "code_show=true; \n",
       "function code_toggle() {\n",
       " if (code_show){\n",
       " $('div.input').hide();\n",
       " $('div.prompt').hide();\n",
       " } else {\n",
       " $('div.input').show();\n",
       "$('div.prompt').show();\n",
       " }\n",
       " code_show = !code_show\n",
       "} \n",
       "$( document ).ready(code_toggle);\n",
       "</script>\n",
       "<form action=\"javascript:code_toggle()\"><input type=\"submit\" value=\"Code Toggle\"></form>"
      ],
      "text/plain": [
       "<IPython.core.display.HTML object>"
      ]
     },
     "execution_count": 1,
     "metadata": {},
     "output_type": "execute_result"
    }
   ],
   "source": [
    "from IPython.display import HTML\n",
    "\n",
    "HTML('''<script>\n",
    "code_show=true; \n",
    "function code_toggle() {\n",
    " if (code_show){\n",
    " $('div.input').hide();\n",
    " $('div.prompt').hide();\n",
    " } else {\n",
    " $('div.input').show();\n",
    "$('div.prompt').show();\n",
    " }\n",
    " code_show = !code_show\n",
    "} \n",
    "$( document ).ready(code_toggle);\n",
    "</script>\n",
    "<form action=\"javascript:code_toggle()\"><input type=\"submit\" value=\"Code Toggle\"></form>''')"
   ]
  },
  {
   "cell_type": "markdown",
   "metadata": {
    "slideshow": {
     "slide_type": "slide"
    }
   },
   "source": [
    "# Hackathon 2\n",
    "\n",
    "** May 3, 2016 &ndash; Northwestern University **\n",
    "\n",
    "<img src=\"../../../images/hackathon2_photo.jpg\" alt=\"\">\n",
    "\n",
    "## Note from the organizer\n",
    "\n",
    "CHiMaD hosted the second Phase Field Methods Hackathon on May 3, 2016, in connection with its [Phase Field Methods Workshop III]({{ site.baseurl }}/workshops/) on May 4 - 5, 2016. The motivation for the hackathon comes from one of CHiMaD’s missions: to develop community standards for phase field modeling in materials science, and to distribute community codes for phase field modeling. As part of this mission, CHiMaD is working on developing and distributing a set of standard problems for phase field modeling, analogous to how the micromagnetic community developed a set of [standard problems for micromagnetic modeling](http://www.ctcms.nist.gov/~rdm/mumag.org.html). A [first hackathon]({{ site.baseurl }}/hackathons/hackathon1/) was held on October 14 – 15, 2015, with problem sets focusing on Cahn-Hilliard and coupled Allen-Cahn/Cahn-Hilliard problems. This second Hackthon will explore other canonical problems central to phase-field type modeling of materials.\n",
    "\n",
    "Teams consisting of two students or postdocs were given the set of problems. They contain two kinds of phase field modeling, and each set contains sub-problems of increasing difficulty. The problems are completely defined in terms of initial conditions, geometry, and material parameters. The teams will have internet access and will be tasked with attempting to solve the problems within 24 hours using whatever numerical codes they have at their disposition - there will be no codes provided at the hackathon. All attendees are expected to bring their own laptops and connect to the servers they regularly use for running their codes.\n",
    "\n",
    "The goal of the hackathon is to see how different codes and different approaches can handle the problems with respect to accuracy and speed, and also to serve as a test bed for the development of standard problems. The aim of the hackathon is not to produce winners or losers, but to advance our understanding of phase field modeling: in that context, all results or attempts at solving the problems will be valuable. Each team will be required to present their results at the Phase Field Workshop on the morning of May 4."
   ]
  },
  {
   "cell_type": "markdown",
   "metadata": {},
   "source": [
    "## Hackathon Challenge Problems and Solutions\n",
    "\n",
    "### Challenge Problems\n",
    "\n",
    "  * [Problem 1: Dendritic Growth in 2D](../problem1.ipynb)\n",
    "  * [Problem 2: Linear Elasticity in 3D](../problem2.ipynb)\n",
    "\n",
    "<br>\n",
    "<br>"
   ]
  },
  {
   "cell_type": "markdown",
   "metadata": {
    "collapsed": true
   },
   "source": [
    "### Solutions"
   ]
  },
  {
   "cell_type": "markdown",
   "metadata": {
    "collapsed": true
   },
   "source": [
    "#### University of Connecticut: Moose\n",
    "\n",
    "[GitHub Repo](https://github.com/kcpitike/Hackathon-2)\n",
    "\n",
    "<iframe src=\"//www.slideshare.net/slideshow/embed_code/key/1qcfv6PO3oSgS\" width=\"425\" height=\"355\" frameborder=\"0\" marginwidth=\"0\" marginheight=\"0\" scrolling=\"no\" style=\"border:1px solid #CCC; border-width:1px; margin-bottom:5px; max-width: 100%;\" allowfullscreen> </iframe>\n",
    "\n",
    "<strong>\n",
    "<a href=\"//www.slideshare.net/DanielWheeler18/chimad-phase-field-hackathon-2-university-of-connecticut\" title=\"CHiMaD Hackathon 2: University of Connecticut\" target=\"_blank\">CHiMaD Phase Field Hackathon 2: University of Connecticut</a> </strong> by <strong>\n",
    "<a target=\"_blank\" href=\"https://github.com/kcpitike\">Krishina Pitike</a> </strong> and\n",
    "<strong><a target=\"_blank\" href=\"https://github.com/mangerij\">John Mangeri</a>\n",
    "</strong>\n",
    "<br>\n",
    "<br>"
   ]
  },
  {
   "cell_type": "markdown",
   "metadata": {},
   "source": [
    "#### Pennsylvania State University: Moose\n",
    "\n",
    "[GitHub Repo](https://github.com/wd15/penn-hackathon2/tree/master)\n",
    "\n",
    "<iframe src=\"//www.slideshare.net/slideshow/embed_code/key/Dbgdhk1Zs5JWtC\" width=\"425\" height=\"355\" frameborder=\"0\" marginwidth=\"0\" marginheight=\"0\" scrolling=\"no\" style=\"border:1px solid #CCC; border-width:1px; margin-bottom:5px; max-width: 100%;\" allowfullscreen> </iframe>\n",
    "\n",
    "\n",
    "<strong> <a href=\"//www.slideshare.net/DanielWheeler18/chimad-hackathon-2-pennsylvania-state-university\" title=\"CHiMaD Hackathon 2: Pennsylvania State University\" target=\"_blank\">CHiMaD Hackathon 2: Pennsylvania State University</a> \n",
    "</strong> by\n",
    "<strong><a target=\"_blank\" href=\"https://github.com/tonkmr\">Mike Tonks</a></strong>,\n",
    "<strong><a target=\"_blank\" href=\"https://github.com/itgreenquist\">I. Greenquist</a></strong> and\n",
    "<strong><a target=\"_blank\" href=\"https://github.com/kasra83\">Kasra Momeni</a></strong>\n",
    "\n",
    "<br>\n",
    "<br>"
   ]
  },
  {
   "cell_type": "markdown",
   "metadata": {},
   "source": [
    "#### McGill University: Unknown FE Code and Julia\n",
    "\n",
    "[GitHub Repo](https://github.com/nsmith5/chimadQ2)\n",
    "\n",
    "<iframe src=\"//www.slideshare.net/slideshow/embed_code/key/4QZp8GXqomEC0B\" width=\"425\" height=\"355\" frameborder=\"0\" marginwidth=\"0\" marginheight=\"0\" scrolling=\"no\" style=\"border:1px solid #CCC; border-width:1px; margin-bottom:5px; max-width: 100%;\" allowfullscreen> </iframe>\n",
    "\n",
    " \n",
    "<strong> <a href=\"//www.slideshare.net/DanielWheeler18/chimad-hackathon-2-team-mcgill\" title=\"CHiMaD Hackathon 2: Team mcgill\" target=\"_blank\">CHiMaD Hackathon 2: McGill University</a>\n",
    "</strong> by\n",
    "<strong><a target=\"_blank\" href=\"https://github.com/nsmith5\">Nathan Smith</a></strong>,\n",
    "<strong>T Pinomma</strong> and\n",
    "<strong>K. N. Shampur</strong>\n",
    "\n",
    "<br>\n",
    "<br>"
   ]
  },
  {
   "cell_type": "markdown",
   "metadata": {},
   "source": [
    "#### NIST: FiPy\n",
    "\n",
    "[GitHub Repo](https://github.com/usnistgov/PhaseFieldHackathon-FiPy)\n",
    "<br>\n",
    "<br>"
   ]
  },
  {
   "cell_type": "markdown",
   "metadata": {},
   "source": [
    "#### INL: Moose\n",
    "\n",
    "<iframe src=\"//www.slideshare.net/slideshow/embed_code/key/E1OGX4YyH0HtzK\" width=\"425\" height=\"355\" frameborder=\"0\" marginwidth=\"0\" marginheight=\"0\" scrolling=\"no\" style=\"border:1px solid #CCC; border-width:1px; margin-bottom:5px; max-width: 100%;\" allowfullscreen> </iframe> <strong> <a href=\"//www.slideshare.net/DanielWheeler18/chimad-hackathon-2\" title=\"CHiMaD Hackathon 2\" target=\"_blank\">CHiMaD Hackathon 2: INL</a> </strong> by \n",
    "<strong>Karim Ahmed</strong> and\n",
    "<strong>Sudipta Biwas</strong>\n",
    "\n",
    "<br>\n",
    "<br>"
   ]
  },
  {
   "cell_type": "markdown",
   "metadata": {},
   "source": [
    "#### University of Michigan: PRISMS\n",
    "\n",
    "<iframe src=\"//www.slideshare.net/slideshow/embed_code/key/3ERQSQGzAh1dZq\" width=\"425\" height=\"355\" frameborder=\"0\" marginwidth=\"0\" marginheight=\"0\" scrolling=\"no\" style=\"border:1px solid #CCC; border-width:1px; margin-bottom:5px; max-width: 100%;\" allowfullscreen> </iframe> <strong> <a href=\"//www.slideshare.net/DanielWheeler18/chimad-hackathon-2-university-of-michigan\" title=\"CHiMaD Hackathon 2: University of Michigan\" target=\"_blank\">CHiMaD Hackathon 2: University of Michigan</a> </strong> by\n",
    "<strong>Jason Luce</strong> and\n",
    "<strong>Beck Andrews</strong>\n"
   ]
  },
  {
   "cell_type": "code",
   "execution_count": null,
   "metadata": {
    "collapsed": true
   },
   "outputs": [],
   "source": []
  }
 ],
 "metadata": {
  "anaconda-cloud": {},
  "kernelspec": {
   "display_name": "Python [default]",
   "language": "python",
   "name": "python3"
  },
  "language_info": {
   "codemirror_mode": {
    "name": "ipython",
    "version": 3
   },
   "file_extension": ".py",
   "mimetype": "text/x-python",
   "name": "python",
   "nbconvert_exporter": "python",
   "pygments_lexer": "ipython3",
   "version": "3.6.1"
  }
 },
 "nbformat": 4,
 "nbformat_minor": 1
}
