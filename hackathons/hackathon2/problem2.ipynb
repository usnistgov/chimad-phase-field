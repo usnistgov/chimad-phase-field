{
 "cells": [
  {
   "cell_type": "code",
   "execution_count": 1,
   "metadata": {},
   "outputs": [
    {
     "data": {
      "text/html": [
       "<script>\n",
       "code_show=true; \n",
       "function code_toggle() {\n",
       " if (code_show){\n",
       " $('div.input').hide();\n",
       " $('div.prompt').hide();\n",
       " } else {\n",
       " $('div.input').show();\n",
       "$('div.prompt').show();\n",
       " }\n",
       " code_show = !code_show\n",
       "} \n",
       "$( document ).ready(code_toggle);\n",
       "</script>\n",
       "<form action=\"javascript:code_toggle()\"><input type=\"submit\" value=\"Code Toggle\"></form>"
      ],
      "text/plain": [
       "<IPython.core.display.HTML object>"
      ]
     },
     "execution_count": 1,
     "metadata": {},
     "output_type": "execute_result"
    }
   ],
   "source": [
    "from IPython.display import HTML\n",
    "\n",
    "HTML('''<script>\n",
    "code_show=true; \n",
    "function code_toggle() {\n",
    " if (code_show){\n",
    " $('div.input').hide();\n",
    " $('div.prompt').hide();\n",
    " } else {\n",
    " $('div.input').show();\n",
    "$('div.prompt').show();\n",
    " }\n",
    " code_show = !code_show\n",
    "} \n",
    "$( document ).ready(code_toggle);\n",
    "</script>\n",
    "<form action=\"javascript:code_toggle()\"><input type=\"submit\" value=\"Code Toggle\"></form>''')"
   ]
  },
  {
   "cell_type": "code",
   "execution_count": 2,
   "metadata": {},
   "outputs": [
    {
     "data": {
      "text/html": [
       "\n",
       "<a href=\"{{ site.links.github }}/raw/nist-pages/hackathons/hackathon2/problem2.ipynb\"\n",
       "   download>\n",
       "<button type=\"submit\">Download Notebook</button>\n",
       "</a>\n"
      ],
      "text/plain": [
       "<IPython.core.display.HTML object>"
      ]
     },
     "execution_count": 2,
     "metadata": {},
     "output_type": "execute_result"
    }
   ],
   "source": [
    "from IPython.display import HTML\n",
    "\n",
    "HTML('''\n",
    "<a href=\"{{ site.links.github }}/raw/nist-pages/hackathons/hackathon2/problem2.ipynb\"\n",
    "   download>\n",
    "<button type=\"submit\">Download Notebook</button>\n",
    "</a>\n",
    "''')"
   ]
  },
  {
   "cell_type": "code",
   "execution_count": 1,
   "metadata": {},
   "outputs": [
    {
     "data": {
      "text/html": [
       "{% include jupyter_benchmark_table.html num=\"[4]\" revision=0 %}"
      ],
      "text/plain": [
       "<IPython.core.display.HTML object>"
      ]
     },
     "execution_count": 1,
     "metadata": {},
     "output_type": "execute_result"
    }
   ],
   "source": [
    "from IPython.display import HTML\n",
    "\n",
    "HTML('''{% include jupyter_benchmark_table.html num=\"[4]\" revision=0 %}''')"
   ]
  },
  {
   "cell_type": "markdown",
   "metadata": {},
   "source": [
    "# Benchmark Problem 4: Linear Elasticity in 3D\n",
    "\n",
    "The linear elastic energy of a body is\n",
    "\n",
    "\\begin{equation}\n",
    "E_{\\rm elastic}=\\frac{1}{2}\\int \\sigma_{ij}\\epsilon_{ij}\\,dV=\\frac{1}{2}\\int C_{ijkl}\\epsilon_{ij}\\epsilon_{kl}\\,dV,\n",
    "\\end{equation}\n",
    "\n",
    "where $\\sigma_{ij}=C_{ijkl}\\epsilon_{kl}$ is the stress, $C_{ijkl}$ is the elastic tensor, and $\\epsilon_{ij}$ is the strain,\n",
    "\\begin{equation}\n",
    "\\epsilon_{ij}=\\frac{1}{2}\\left[\\frac{\\partial u_i}{\\partial x_j}+\\frac{\\partial u_j}{\\partial x_i}\\right],\n",
    "\\end{equation}\n",
    "with $u_i$ the displacement field. The indices $i,j,k,l$ run from 1 to 3, and $x_i,\\,i=1,2,3$, are Cartesian coordinates; we are using Einstein summation convention so repeated indices are summed over.\n",
    "\n",
    "The elastic tensor obeys symmetries $C_{ijkl}=C_{jikl}=C_{ijlk}=C_{jilk}$ and $C_{ijkl}=C_{klij}$. These symmetries imply that there are only 21 independent entries in the elastic tensor. Usually Voigt notation is used, in which the four indices $ijkl$ are replaced by two indices $IJ$. The mapping for each pair $ij$ (or $kl$) is $11\\to1$, $22\\to2$, $33\\to3$, $23\\to4$ (and $32\\to4$), $13\\to5$ (and $31\\to5$), and $12\\to6$ (and $21\\to6$). The crystal symmetry may further reduce the number of independent entries. In an orthorombic crystal, there are only nine independent entries, and they are (in Voigt notation) $C_{11}, C_{22}, C_{33}, C_{44}, C_{55}, C_{66}, C_{12}, C_{13}$, and $C_{23}$. The tensor $C_{IJ}$ thus has the form\n",
    "\n",
    "\\begin{equation}\n",
    "\\left(\n",
    "\\begin{matrix}\n",
    "C_{11} & C_{12} & C_{13} & 0 & 0 & 0\\\\\n",
    "C_{12} & C_{22} & C_{23} & 0 & 0 & 0 \\\\\n",
    "C_{13} & C_{23} & C_{33} & 0 & 0 & 0 \\\\\n",
    "0 & 0 & 0 &              C_{44} & 0 & 0\\\\\n",
    "0 & 0 & 0 & 0 & C_{55} & 0\\\\\n",
    "0 & 0 & 0 & 0 & 0 & C_{66}\n",
    "\\end{matrix}\n",
    "\\right).\n",
    "\\end{equation}\n",
    "\n",
    "For tetragonal symmetry, there are six independent entries, $C_{11}, C_{33}, C_{44}, C_{66}, C_{12}$, and $C_{13}$. \n",
    "\n",
    "Aluminum silicate, Al$_2$SiO$_5$ is a crystal with orthorombic symmetry and unit cell parameters $a=7.738\\;\\unicode{x212B}$ , $b=7.857\\;\\unicode{x212B}$, and $c=5.534\\;\\unicode{x212B}$. The elastic tensor is given by $C_{11}=233.4$, $C_{22}=289.0$, $C_{33}=380.1$, $C_{44}=99.5$, $C_{55}=87.8$, $C_{66}=112.3$; $C_{11}+C_{22}-2C_{12}=233.4$, $C_{11}+C_{33}-2C_{13}=380.9$, and $C_{22}+C_{33}-2C_{23}=506.3$, all in units of GPa.\n",
    "\n",
    "(a) (Potato in space) What is the equilibrium shape of a 0.0042~$\\mu$m$^3$ volume of Al$_2$SiO$_5$ in free space (stress-free boundaries)? Take the surface energy, $\\gamma$, to be equal to 200 mJ/m$^2$. The crystalline axes $a$, $b$, and $c$ are aligned with the $x$, $y$, and $z$-axes of a Cartesian lab coordinate system.\n",
    "\n",
    "This problem can be cast as a phase field problem, where the phase field $\\varphi\\in[0,1]$ takes the value of 1 in one phase (the \"potato\"), and a value of 0 in the other (the surrounding vacuum). Thus, the total free energy can be written\n",
    "\\begin{equation}\n",
    "{\\mathcal F}=\\int \\left[f_{\\rm elastic}+\\frac{\\kappa}{2}|\\nabla\\varphi|^2+h_0f(\\varphi)\\right]\\,dV,\n",
    "\\end{equation}\n",
    "with the integral extended over all space,\n",
    "where\n",
    "$f(\\varphi)$ is a (dimensionless) double-well function\n",
    "\\begin{equation}\n",
    "f(\\varphi)=\\varphi^2\\left[\\varphi-1\\right]^2,\n",
    "\\end{equation}\n",
    "and $h_0$ has the dimension of energy per unit volume. The interface width $W$ between approximately $\\varphi=0.1$ and $\\varphi=0.9$ in this model is given by $W=2\\sqrt{2\\kappa/h_0}$, while $\\gamma=\\sqrt{\\kappa h_0/18}$, $\\kappa=1.5\\gamma W$, and $h_0=12\\gamma/W$ (ignoring modification of the phase field order parameter $\\varphi$ by the elastic interactions through the interface). Use $\\kappa=3\\times10^{-9}$~J/m, and\n",
    "$h_0=2.4\\times10^{8}$~J/m$^3$.  \n",
    "\n",
    "We use a simple interpolation of the elastic constants, \n",
    "\n",
    "\\begin{equation}\n",
    "C_{ijkl}=h(\\varphi)C_{ijkl}^{\\rm potato},%+\\left[1-h(\\varphi)\\right]C_{ijkl}^{\\rm matrix},\n",
    "\\end{equation}\n",
    "\n",
    "where $h(\\varphi)$ is a smooth interpolation function,\n",
    "\\begin{equation}\n",
    "h(\\varphi)=\\varphi^3\\left[6\\varphi^2-15\\varphi+10\\right],\n",
    "\\end{equation}\n",
    "that interpolates between $h(\\varphi=0)=0$ and $h(\\varphi=1)=1$.\n",
    "\n",
    "Hint: find time-evolution equations for $\\varphi$ that monotonically drive the total energy to a minimum while preserving the volume. One way to do this is to set up a Cahn-Hilliard equation for $\\varphi$.\n",
    "\n",
    "(b) (Compressed potato in space) What is the equilibrium shape of a 0.0042 $\\mu$m$^3$ volume Al$_2$SiO$_5$ with uniaxial compressive stress of 500~MPa applied in the $z$-direction?  Note that the strain must go to zero far from the \"potato.\"\n",
    "\n",
    "(c) (Potato in a stew) A volume of Al$_2$SiO$_5$ is embedded coherently in a matrix of tetragonal symmetry with unit cell parameters $a_m=b_m=7.6918\\;\\unicode{x212B}$ and $c_m=5.5674\\;\\unicode{x212B}$ such that $a$ and $a_m$, $b$ and $b_m$ and $c$ and $c_m$ are pairwise aligned. The elastic tensor of the matrix is given by $C_{11}=C_{22}=269.0$, $C_{12}=177.0$, $C_{13}=146.0$, $C_{33}=480.0$, $C_{44}=124.0$, and $C_{66}=192.0$, all in units of GPa.\n",
    "\n",
    "This problem can also be cast as a phase field problem, where now the phase field $\\varphi\\in[0,1]$ takes the value of 1 in one phase (the inclusion), and a value of 0 in the other (the matrix). The total free energy is again\n",
    "\\begin{equation}\n",
    "{\\mathcal F}=\\int \\left[f_{\\rm elastic}+\\frac{\\kappa}{2}|\\nabla\\varphi|^2+h_0f(\\varphi)\\right]\\,dV,\n",
    "\\end{equation}\n",
    "where \n",
    "$f(\\varphi)$ is given by above.\n",
    "\n",
    "The interpolation of the elastic constants is now, \n",
    "\n",
    "\\begin{equation}\n",
    "C_{ijkl}=h(\\varphi)C_{ijkl}^{\\rm inclusion}+\\left[1-h(\\varphi)\\right]C_{ijkl}^{\\rm matrix},\n",
    "\\end{equation}\n",
    "\n",
    "where again $h(\\varphi)$ is a smooth interpolation function given above.\n",
    "\n",
    "In the elastic energy, the relevant strain is the total strain $\\epsilon_{ij}$ minus the local misfit strain $\\epsilon^0_{ij}$, so\n",
    "\n",
    "\\begin{equation}\n",
    "f_{\\rm elastic}=\\frac{1}{2}C_{ijkl}\\left(\\epsilon_{ij}-\\epsilon^0_{ij}\\right)\\left(\\epsilon_{kl}-\\epsilon^0_{kl}\\right).\n",
    "\\end{equation}\n",
    "\n",
    "We will use Vegard's law to determine the local misfit strain, for which we just interpolate the crystallographic misfit strain tensor, $\\epsilon^T_{ij}$:\n",
    "\n",
    "\\begin{equation}\n",
    "\\epsilon^0_{ij}=h(\\varphi)\\epsilon^T_{ij},\n",
    "\\end{equation}\n",
    "\n",
    "where $h(\\varphi)$ is the interpolation function, and $\\epsilon^T_{ij}$ is\n",
    "\\begin{equation}\n",
    "\\epsilon^T_{ij}=\\left(\n",
    "\\begin{matrix}\n",
    "\\frac{a-a_m}{a_m} & 0 & 0\\\\\n",
    "0 & \\frac{b-b_m}{b_m} & 0\\\\\n",
    "0& 0 & \\frac{c-c_c}{c_m}\n",
    "\\end{matrix}\n",
    "\\right).\n",
    "\\end{equation}\n",
    "\n",
    "Find the equilibrium shape of an isolated inclusion with a volume of 0.0042 $\\mu$m$^3$ for $\\kappa=3\\times10^{-9}$ J/m, and $h_0=2.4\\times10^{8}$ J/m$^3$. Use as an initial condition a prolate ellipsoid with $a=c=0.155$ $\\mu$m and $b=0.042$ $\\mu$m. Because of elastic strain energy and interfacial energy within the system, you will need to increase the intial values of the phase field variable in the matrix and the precipitate (e.g., $\\varphi$ in the precipitate $\\approx$ 1.05; $\\varphi$ in the matrix $\\approx 0.05$).  Note that the strain must go to zero far from the \"potato\".\n",
    "\n",
    "For parts (a) - (c), present a rendering of the final shape as well as the lengths of the \"potato\" along the principal axes, and also track the total free energy as function of \"time\" and plot it.\n"
   ]
  }
 ],
 "metadata": {
  "anaconda-cloud": {},
  "kernelspec": {
   "display_name": "Python [default]",
   "language": "python",
   "name": "python3"
  },
  "language_info": {
   "codemirror_mode": {
    "name": "ipython",
    "version": 3
   },
   "file_extension": ".py",
   "mimetype": "text/x-python",
   "name": "python",
   "nbconvert_exporter": "python",
   "pygments_lexer": "ipython3",
   "version": "3.6.1"
  }
 },
 "nbformat": 4,
 "nbformat_minor": 1
}
