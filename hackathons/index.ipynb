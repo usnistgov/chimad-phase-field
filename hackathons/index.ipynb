{
 "cells": [
  {
   "cell_type": "code",
   "execution_count": 2,
   "metadata": {
    "collapsed": false
   },
   "outputs": [
    {
     "data": {
      "text/html": [
       "<script>\n",
       "code_show=true; \n",
       "function code_toggle() {\n",
       " if (code_show){\n",
       " $('div.input').hide();\n",
       " $('div.prompt').hide();\n",
       " } else {\n",
       " $('div.input').show();\n",
       "$('div.prompt').show();\n",
       " }\n",
       " code_show = !code_show\n",
       "} \n",
       "$( document ).ready(code_toggle);\n",
       "</script>\n",
       "<form action=\"javascript:code_toggle()\"><input type=\"submit\" value=\"Code Toggle\"></form>"
      ],
      "text/plain": [
       "<IPython.core.display.HTML object>"
      ]
     },
     "execution_count": 2,
     "metadata": {},
     "output_type": "execute_result"
    }
   ],
   "source": [
    "from IPython.display import HTML\n",
    "\n",
    "HTML('''<script>\n",
    "code_show=true; \n",
    "function code_toggle() {\n",
    " if (code_show){\n",
    " $('div.input').hide();\n",
    " $('div.prompt').hide();\n",
    " } else {\n",
    " $('div.input').show();\n",
    "$('div.prompt').show();\n",
    " }\n",
    " code_show = !code_show\n",
    "} \n",
    "$( document ).ready(code_toggle);\n",
    "</script>\n",
    "<form action=\"javascript:code_toggle()\"><input type=\"submit\" value=\"Code Toggle\"></form>''')"
   ]
  },
  {
   "cell_type": "markdown",
   "metadata": {},
   "source": [
    "# Hackathons\n",
    "\n",
    "To date there have been three hackathons run in conjunction with the Phase Field Workshops.\n",
    "The motivation for the hackathons comes from one of CHiMaD’s missions: to develop community standards for phase field modeling in materials science, and to distribute community codes for phase field modeling. The hackathons help in this process by assembling the community in one place to work on the practical issues of code testing and development.\n",
    "\n",
    "<img src=\"../../images/small-hack.jpg\" alt=\"\">\n",
    "\n",
    "\n",
    "## [Hackathon 1](../hackathon1)\n",
    "\n",
    "** October 15, 2015 &ndash; Northwestern University **\n",
    "\n",
    "## [Hackathon 2](../hackathon2)\n",
    "\n",
    "** May 3, 2016 &ndash; Northwestern University **\n",
    "\n",
    "## [Hackathon 3](../hackathon3)\n",
    "\n",
    "** January 19, 2017 &ndash; Northwestern University **"
   ]
  }
 ],
 "metadata": {
  "anaconda-cloud": {},
  "kernelspec": {
   "display_name": "Python [default]",
   "language": "python",
   "name": "python3"
  },
  "language_info": {
   "codemirror_mode": {
    "name": "ipython",
    "version": 3
   },
   "file_extension": ".py",
   "mimetype": "text/x-python",
   "name": "python",
   "nbconvert_exporter": "python",
   "pygments_lexer": "ipython3",
   "version": "3.5.2"
  }
 },
 "nbformat": 4,
 "nbformat_minor": 1
}
